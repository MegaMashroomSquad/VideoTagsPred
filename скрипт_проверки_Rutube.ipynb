{
  "nbformat": 4,
  "nbformat_minor": 0,
  "metadata": {
    "colab": {
      "provenance": []
    },
    "kernelspec": {
      "name": "python3",
      "display_name": "Python 3"
    },
    "language_info": {
      "name": "python"
    }
  },
  "cells": [
    {
      "cell_type": "code",
      "execution_count": 1,
      "metadata": {
        "id": "B0eNdhoy5pBT"
      },
      "outputs": [],
      "source": [
        "import pandas as pd\n",
        "import numpy as np"
      ]
    },
    {
      "cell_type": "markdown",
      "source": [
        "Загрузка sample_submission"
      ],
      "metadata": {
        "id": "xSS9nMPbF-T3"
      }
    },
    {
      "cell_type": "code",
      "source": [
        "sample_submission = pd.read_csv('/content/sample_submission.csv')"
      ],
      "metadata": {
        "id": "kuZRFQuq9Ai2"
      },
      "execution_count": 2,
      "outputs": []
    },
    {
      "cell_type": "markdown",
      "source": [
        "Заполнение колонки с тегами случайным значением"
      ],
      "metadata": {
        "id": "m3CfrcsTGGhw"
      }
    },
    {
      "cell_type": "code",
      "source": [
        "sample_submission['predicted_tags'] = np.repeat([\"['Карьера: Cтажировки', 'Карьера: Составление резюме']\"], len(sample_submission))"
      ],
      "metadata": {
        "id": "DFnIoIFM994L"
      },
      "execution_count": 3,
      "outputs": []
    },
    {
      "cell_type": "code",
      "source": [
        "sample_submission.head(1)"
      ],
      "metadata": {
        "colab": {
          "base_uri": "https://localhost:8080/",
          "height": 132
        },
        "id": "T-q51iwq9NU1",
        "outputId": "a0502e9d-f632-460d-b77e-8edb00c5230f"
      },
      "execution_count": 4,
      "outputs": [
        {
          "output_type": "execute_result",
          "data": {
            "text/plain": [
              "                           video_id  \\\n",
              "0  c00d1b173ed8680c155b773d43af7791   \n",
              "\n",
              "                                               title  \\\n",
              "0  Тяпа | #24 | 8 МАРТА. ТЯПА ПОЗДРАВЛЯЕТ ЛИЗУ. З...   \n",
              "\n",
              "                                         description  \\\n",
              "0  Утро Тяпы начинается с недвусмысленного напоми...   \n",
              "\n",
              "                                      predicted_tags  \n",
              "0  ['Карьера: Cтажировки', 'Карьера: Составление ...  "
            ],
            "text/html": [
              "\n",
              "  <div id=\"df-631cac30-9bad-427e-b0ea-bcc713f241f8\" class=\"colab-df-container\">\n",
              "    <div>\n",
              "<style scoped>\n",
              "    .dataframe tbody tr th:only-of-type {\n",
              "        vertical-align: middle;\n",
              "    }\n",
              "\n",
              "    .dataframe tbody tr th {\n",
              "        vertical-align: top;\n",
              "    }\n",
              "\n",
              "    .dataframe thead th {\n",
              "        text-align: right;\n",
              "    }\n",
              "</style>\n",
              "<table border=\"1\" class=\"dataframe\">\n",
              "  <thead>\n",
              "    <tr style=\"text-align: right;\">\n",
              "      <th></th>\n",
              "      <th>video_id</th>\n",
              "      <th>title</th>\n",
              "      <th>description</th>\n",
              "      <th>predicted_tags</th>\n",
              "    </tr>\n",
              "  </thead>\n",
              "  <tbody>\n",
              "    <tr>\n",
              "      <th>0</th>\n",
              "      <td>c00d1b173ed8680c155b773d43af7791</td>\n",
              "      <td>Тяпа | #24 | 8 МАРТА. ТЯПА ПОЗДРАВЛЯЕТ ЛИЗУ. З...</td>\n",
              "      <td>Утро Тяпы начинается с недвусмысленного напоми...</td>\n",
              "      <td>['Карьера: Cтажировки', 'Карьера: Составление ...</td>\n",
              "    </tr>\n",
              "  </tbody>\n",
              "</table>\n",
              "</div>\n",
              "    <div class=\"colab-df-buttons\">\n",
              "\n",
              "  <div class=\"colab-df-container\">\n",
              "    <button class=\"colab-df-convert\" onclick=\"convertToInteractive('df-631cac30-9bad-427e-b0ea-bcc713f241f8')\"\n",
              "            title=\"Convert this dataframe to an interactive table.\"\n",
              "            style=\"display:none;\">\n",
              "\n",
              "  <svg xmlns=\"http://www.w3.org/2000/svg\" height=\"24px\" viewBox=\"0 -960 960 960\">\n",
              "    <path d=\"M120-120v-720h720v720H120Zm60-500h600v-160H180v160Zm220 220h160v-160H400v160Zm0 220h160v-160H400v160ZM180-400h160v-160H180v160Zm440 0h160v-160H620v160ZM180-180h160v-160H180v160Zm440 0h160v-160H620v160Z\"/>\n",
              "  </svg>\n",
              "    </button>\n",
              "\n",
              "  <style>\n",
              "    .colab-df-container {\n",
              "      display:flex;\n",
              "      gap: 12px;\n",
              "    }\n",
              "\n",
              "    .colab-df-convert {\n",
              "      background-color: #E8F0FE;\n",
              "      border: none;\n",
              "      border-radius: 50%;\n",
              "      cursor: pointer;\n",
              "      display: none;\n",
              "      fill: #1967D2;\n",
              "      height: 32px;\n",
              "      padding: 0 0 0 0;\n",
              "      width: 32px;\n",
              "    }\n",
              "\n",
              "    .colab-df-convert:hover {\n",
              "      background-color: #E2EBFA;\n",
              "      box-shadow: 0px 1px 2px rgba(60, 64, 67, 0.3), 0px 1px 3px 1px rgba(60, 64, 67, 0.15);\n",
              "      fill: #174EA6;\n",
              "    }\n",
              "\n",
              "    .colab-df-buttons div {\n",
              "      margin-bottom: 4px;\n",
              "    }\n",
              "\n",
              "    [theme=dark] .colab-df-convert {\n",
              "      background-color: #3B4455;\n",
              "      fill: #D2E3FC;\n",
              "    }\n",
              "\n",
              "    [theme=dark] .colab-df-convert:hover {\n",
              "      background-color: #434B5C;\n",
              "      box-shadow: 0px 1px 3px 1px rgba(0, 0, 0, 0.15);\n",
              "      filter: drop-shadow(0px 1px 2px rgba(0, 0, 0, 0.3));\n",
              "      fill: #FFFFFF;\n",
              "    }\n",
              "  </style>\n",
              "\n",
              "    <script>\n",
              "      const buttonEl =\n",
              "        document.querySelector('#df-631cac30-9bad-427e-b0ea-bcc713f241f8 button.colab-df-convert');\n",
              "      buttonEl.style.display =\n",
              "        google.colab.kernel.accessAllowed ? 'block' : 'none';\n",
              "\n",
              "      async function convertToInteractive(key) {\n",
              "        const element = document.querySelector('#df-631cac30-9bad-427e-b0ea-bcc713f241f8');\n",
              "        const dataTable =\n",
              "          await google.colab.kernel.invokeFunction('convertToInteractive',\n",
              "                                                    [key], {});\n",
              "        if (!dataTable) return;\n",
              "\n",
              "        const docLinkHtml = 'Like what you see? Visit the ' +\n",
              "          '<a target=\"_blank\" href=https://colab.research.google.com/notebooks/data_table.ipynb>data table notebook</a>'\n",
              "          + ' to learn more about interactive tables.';\n",
              "        element.innerHTML = '';\n",
              "        dataTable['output_type'] = 'display_data';\n",
              "        await google.colab.output.renderOutput(dataTable, element);\n",
              "        const docLink = document.createElement('div');\n",
              "        docLink.innerHTML = docLinkHtml;\n",
              "        element.appendChild(docLink);\n",
              "      }\n",
              "    </script>\n",
              "  </div>\n",
              "\n",
              "    </div>\n",
              "  </div>\n"
            ],
            "application/vnd.google.colaboratory.intrinsic+json": {
              "type": "dataframe",
              "variable_name": "sample_submission",
              "summary": "{\n  \"name\": \"sample_submission\",\n  \"rows\": 199,\n  \"fields\": [\n    {\n      \"column\": \"video_id\",\n      \"properties\": {\n        \"dtype\": \"string\",\n        \"num_unique_values\": 199,\n        \"samples\": [\n          \"76562f46b286a03979696d243972ffa9\",\n          \"6239e84c27ca21f7c87903212c5c440b\",\n          \"e8c596ce996946ca121795fc53f0480b\"\n        ],\n        \"semantic_type\": \"\",\n        \"description\": \"\"\n      }\n    },\n    {\n      \"column\": \"title\",\n      \"properties\": {\n        \"dtype\": \"string\",\n        \"num_unique_values\": 199,\n        \"samples\": [\n          \"\\u041f\\u043e\\u0445\\u043e\\u0434\\u044b \\u041a\\u0430\\u0434\\u044b\\u0440\\u043e\\u0432\\u0430 \\u043d\\u0430 \\u0414\\u0430\\u0433\\u0435\\u0441\\u0442\\u0430\\u043d. \\u0413\\u0443\\u043d\\u0438\\u0431, \\u0433\\u043e\\u0440\\u0430 \\u041c\\u0430\\u044f\\u043a, \\u0430\\u0443\\u043b-\\u043f\\u0440\\u0438\\u0437\\u0440\\u0430\\u043a \\u0413\\u0430\\u043c\\u0441\\u0443\\u0442\\u043b\\u044c, \\u0421\\u0443\\u043b\\u0430\\u043a\\u0441\\u043a\\u0438\\u0439 \\u043a\\u0430\\u043d\\u044c\\u043e\\u043d\",\n          \"\\u041f\\u0440\\u043e\\u0431\\u044b | \\u0412\\u044b\\u043f\\u0443\\u0441\\u043a 5 | \\u041c\\u0430\\u0439\\u043e\\u0440 \\u0414\\u0440\\u043e\\u0437\\u0434\",\n          \"\\u0422\\u044f\\u043f\\u0430 | #36 | \\u0420\\u0415\\u0421\\u0422\\u041e\\u0420\\u0410\\u041d \\u041d\\u0415 \\u041f\\u041e \\u041f\\u041e\\u041d\\u042f\\u0422\\u0418\\u042f\\u041c\"\n        ],\n        \"semantic_type\": \"\",\n        \"description\": \"\"\n      }\n    },\n    {\n      \"column\": \"description\",\n      \"properties\": {\n        \"dtype\": \"string\",\n        \"num_unique_values\": 193,\n        \"samples\": [\n          \"\\u0412 \\u044d\\u0442\\u043e\\u043c \\u0432\\u044b\\u043f\\u0443\\u0441\\u043a\\u0435 \\u0448\\u043e\\u0443 \\u00ab\\u0422\\u0430\\u043a\\u043e\\u0439 \\u0440\\u0430\\u0441\\u043a\\u043b\\u0430\\u0434\\u00bb \\u0432\\u044b \\u0443\\u0432\\u0438\\u0434\\u0438\\u0442\\u0435 \\u043c\\u0430\\u043a-\\u0442\\u0435\\u0440\\u0430\\u043f\\u0435\\u0432\\u0442\\u0430, \\u043f\\u0441\\u0438\\u0445\\u043e\\u043b\\u043e\\u0433\\u0430, \\u0440\\u0430\\u0441\\u0441\\u0442\\u0430\\u043d\\u043e\\u0432\\u0449\\u0438\\u043a\\u0430 \\u0412\\u0435\\u0440\\u043e\\u043d\\u0438\\u043a\\u0443 \\u041a\\u043e\\u043f\\u0435\\u0439\\u043a\\u043e \\u0432 \\u043a\\u043e\\u043c\\u043f\\u0430\\u043d\\u0438\\u0438 \\u0432\\u0435\\u0434\\u0443\\u0449\\u0435\\u0439 \\u042f\\u043d\\u0438\\u043d\\u044b \\u0421\\u0442\\u0443\\u0434\\u0438\\u043b\\u0438\\u043d\\u043e\\u0439. \\u0412\\u0441\\u0442\\u0440\\u0435\\u0447\\u0430\\u0435\\u043c\\u0441\\u044f \\u0432 20:00! \\u0422\\u0435\\u043c\\u0430 \\u044d\\u0444\\u0438\\u0440\\u0430 \\u2013 \\u043e\\u0442\\u043d\\u043e\\u0448\\u0435\\u043d\\u0438\\u044f \\u0432 \\u0441\\u0435\\u043c\\u044c\\u0435. \\u0412 \\u043f\\u0440\\u044f\\u043c\\u043e\\u043c \\u044d\\u0444\\u0438\\u0440\\u0435 \\u0412\\u0435\\u0440\\u043e\\u043d\\u0438\\u043a\\u0430 \\u0441 \\u043f\\u043e\\u043c\\u043e\\u0449\\u044c\\u044e \\u043c\\u0435\\u0442\\u0430\\u0444\\u043e\\u0440\\u0438\\u0447\\u0435\\u0441\\u043a\\u0438\\u0445 \\u0430\\u0441\\u0441\\u043e\\u0446\\u0438\\u0430\\u0442\\u0438\\u0432\\u043d\\u044b\\u0445 \\u043a\\u0430\\u0440\\u0442 \\u043f\\u043e\\u043c\\u043e\\u0436\\u0435\\u0442 \\u043d\\u0430\\u0439\\u0442\\u0438 \\u043e\\u0442\\u0432\\u0435\\u0442\\u044b \\u043d\\u0430 \\u0432\\u043e\\u043f\\u0440\\u043e\\u0441\\u044b \\u0437\\u0440\\u0438\\u0442\\u0435\\u043b\\u0435\\u0439 \\u043e \\u0441\\u043b\\u043e\\u0436\\u043d\\u043e\\u0441\\u0442\\u044f\\u0445 \\u0438 \\u043f\\u0435\\u0440\\u0441\\u043f\\u0435\\u043a\\u0442\\u0438\\u0432\\u0430\\u0445 \\u0432 \\u0441\\u0435\\u043c\\u044c\\u0435 \\u0438 \\u043e \\u0442\\u043e\\u043c, \\u043a\\u0430\\u043a \\u0438\\u0441\\u043a\\u0430\\u0442\\u044c \\u0432\\u0437\\u0430\\u0438\\u043c\\u043e\\u043f\\u043e\\u043d\\u0438\\u043c\\u0430\\u043d\\u0438\\u0435 \\u0432 \\u043e\\u0442\\u043d\\u043e\\u0448\\u0435\\u043d\\u0438\\u044f\\u0445 \\u0441 \\u0431\\u043b\\u0438\\u0437\\u043a\\u0438\\u043c\\u0438. \\u041b\\u044e\\u0431\\u044b\\u0435 \\u0432\\u043e\\u043f\\u0440\\u043e\\u0441\\u044b \\u043f\\u043e \\u0442\\u0435\\u043c\\u0435 \\u043f\\u0440\\u0438\\u0432\\u0435\\u0442\\u0441\\u0442\\u0432\\u0443\\u044e\\u0442\\u0441\\u044f! \\u0414\\u043e\\u0440\\u043e\\u0433\\u0438\\u0435 \\u0437\\u0440\\u0438\\u0442\\u0435\\u043b\\u0438, \\u0432\\u043e\\u043f\\u0440\\u043e\\u0441\\u044b \\u043c\\u043e\\u0436\\u043d\\u043e \\u0437\\u0430\\u0434\\u0430\\u0432\\u0430\\u0442\\u044c \\u0432 \\u0447\\u0430\\u0442\\u0435 \\u043f\\u0440\\u044f\\u043c\\u043e \\u043d\\u0430 \\u0441\\u0442\\u0440\\u0430\\u043d\\u0438\\u0446\\u0435 \\u0442\\u0440\\u0430\\u043d\\u0441\\u043b\\u044f\\u0446\\u0438\\u0438. \\u0418 \\u043f\\u043e \\u0441\\u0441\\u044b\\u043b\\u043a\\u0430\\u043c: Telegram-\\u0431\\u043e\\u0442   \\u041e\\u0444\\u0438\\u0446\\u0438\\u0430\\u043b\\u044c\\u043d\\u0430\\u044f \\u0441\\u0442\\u0440\\u0430\\u043d\\u0438\\u0446\\u0430 RUTUBE -23459697_133894  \\u0412 \\u043f\\u043e\\u043d\\u0435\\u0434\\u0435\\u043b\\u044c\\u043d\\u0438\\u043a 28 \\u043d\\u043e\\u044f\\u0431\\u0440\\u044f \\u0432 20:00 \\u0432\\u0441\\u0442\\u0440\\u0435\\u0447\\u0430\\u0435\\u043c\\u0441\\u044f \\u0441 \\u041a\\u0441\\u0435\\u043d\\u0438\\u0435\\u0439 \\u041f\\u0440\\u043e\\u0422\\u0430\\u0440\\u043e. \\u0420\\u0430\\u0441\\u043a\\u043b\\u0430\\u0434\\u044b \\u043d\\u0430 \\u0442\\u0430\\u0440\\u043e \\u043e \\u0432\\u0430\\u0448\\u0438\\u0445 \\u043f\\u043b\\u0430\\u043d\\u0430\\u0445 \\u043d\\u0430 \\u043e\\u0441\\u0442\\u0430\\u0432\\u0448\\u0438\\u0439\\u0441\\u044f \\u043c\\u0435\\u0441\\u044f\\u0446 2022 \\u0433\\u043e\\u0434\\u0430 \\u2013 \\u0433\\u043e\\u0442\\u043e\\u0432\\u044c\\u0442\\u0435 \\u0432\\u043e\\u043f\\u0440\\u043e\\u0441\\u044b \\u0438 \\u0432\\u043a\\u043b\\u044e\\u0447\\u0430\\u0439\\u0442\\u0435 \\u044d\\u0444\\u0438\\u0440!\",\n          \"\\u041c\\u0443\\u043b\\u044c\\u0442\\u041d\\u0430\\u0439\\u0442\\u0428\\u043e\\u0443 \\u2013 \\u0435\\u0436\\u0435\\u043d\\u0435\\u0434\\u0435\\u043b\\u044c\\u043d\\u043e\\u0435 \\u044e\\u043c\\u043e\\u0440\\u0438\\u0441\\u0442\\u0438\\u0447\\u0435\\u0441\\u043a\\u043e\\u0435 \\u043d\\u0430\\u0440\\u0438\\u0441\\u043e\\u0432\\u0430\\u043d\\u043d\\u043e\\u0435 \\u0432\\u0435\\u0447\\u0435\\u0440\\u043d\\u0435\\u0435 \\u0448\\u043e\\u0443, \\u0433\\u0434\\u0435 \\u043e\\u0431\\u0441\\u0443\\u0436\\u0434\\u0430\\u044e\\u0442\\u0441\\u044f \\u0430\\u043a\\u0442\\u0443\\u0430\\u043b\\u044c\\u043d\\u044b\\u0435 \\u043d\\u043e\\u0432\\u043e\\u0441\\u0442\\u0438 \\u0441\\u0442\\u0440\\u0430\\u043d\\u044b \\u0438 \\u043c\\u0438\\u0440\\u0430. \\u0412 \\u044d\\u0442\\u043e\\u043c \\u0432\\u044b\\u043f\\u0443\\u0441\\u043a\\u0435 \\u043c\\u044b \\u043f\\u0440\\u0438\\u0433\\u043b\\u0430\\u0441\\u0438\\u043c \\u0432 \\u0441\\u0442\\u0443\\u0434\\u0438\\u044e \\u0414\\u0436\\u043e\\u043a\\u0435\\u0440\\u0430,  \\u0443\\u0432\\u0438\\u0434\\u0438\\u043c \\u0431\\u043e\\u0433\\u0430\\u0442\\u044b\\u0440\\u0435\\u0439 \\u0432 \\u0441\\u0442\\u0438\\u043b\\u0435 \\u0430\\u043d\\u0438\\u043c\\u0435, \\u0430 \\u0442\\u0430\\u043a\\u0436\\u0435 \\u0443\\u0441\\u043b\\u044b\\u0448\\u0438\\u043c  \\u043c\\u043d\\u0435\\u043d\\u0438\\u0435 \\u043d\\u0430\\u0448\\u0438\\u0445 \\u043c\\u0443\\u043b\\u044c\\u0442\\u044f\\u0448\\u043d\\u044b\\u0445 \\u0444\\u0443\\u0442\\u0431\\u043e\\u043b\\u0438\\u0441\\u0442\\u043e\\u0432 \\u043e \\u0447\\u0435\\u043c\\u043f\\u0438\\u043e\\u043d\\u0430\\u0442\\u0435 \\u043c\\u0438\\u0440\\u0430 \\u043f\\u043e \\u0444\\u0443\\u0442\\u0431\\u043e\\u043b\\u0443.  \\u041f\\u043e \\u0432\\u043e\\u043f\\u0440\\u043e\\u0441\\u0430\\u043c \\u0440\\u0435\\u043a\\u043b\\u0430\\u043c\\u044b \\u043f\\u0438\\u0448\\u0438\\u0442\\u0435 \\u043d\\u0430 email\",\n          \"\\u0412 \\u044d\\u0442\\u043e\\u043c \\u0432\\u044b\\u043f\\u0443\\u0441\\u043a\\u0435 \\u0432\\u0435\\u0434\\u0443\\u0449\\u0430\\u044f \\u0410\\u043b\\u0438\\u0441\\u0430 \\u0438 \\u0434\\u0438\\u0437\\u0430\\u0439\\u043d\\u0435\\u0440 \\u041d\\u0430\\u0442\\u0430\\u0448\\u0430 \\u043e\\u0436\\u0438\\u0432\\u043b\\u044f\\u044e\\u0442 \\u043e\\u0434\\u043d\\u043e\\u043e\\u0431\\u0440\\u0430\\u0437\\u043d\\u0443\\u044e \\u0433\\u043e\\u0441\\u0442\\u0438\\u043d\\u0443\\u044e \\u043e\\u0444\\u0438\\u0441\\u043d\\u043e\\u0433\\u043e \\u0441\\u043e\\u0442\\u0440\\u0443\\u0434\\u043d\\u0438\\u043a\\u0430. \\u0421 \\u0431\\u044e\\u0434\\u0436\\u0435\\u0442\\u043e\\u043c \\u0432 25 \\u0442\\u044b\\u0441\\u044f\\u0447 \\u0440\\u0443\\u0431\\u043b\\u0435\\u0439 \\u0438 \\u0441 \\u043e\\u0440\\u0438\\u0433\\u0438\\u043d\\u0430\\u043b\\u044c\\u043d\\u044b\\u043c\\u0438 \\u0434\\u0438\\u0437\\u0430\\u0439\\u043d\\u0435\\u0440\\u0441\\u043a\\u0438\\u043c\\u0438 \\u0440\\u0435\\u0448\\u0435\\u043d\\u0438\\u044f\\u043c\\u0438 \\u043e\\u043d\\u0438 \\u043f\\u0440\\u0435\\u0432\\u0440\\u0430\\u0442\\u044f\\u0442 \\u044d\\u0442\\u043e \\u043c\\u0435\\u0441\\u0442\\u043e \\u0432 \\u0443\\u044e\\u0442\\u043d\\u044b\\u0439 \\u0443\\u0433\\u043e\\u043b\\u043e\\u043a, \\u043a\\u0443\\u0434\\u0430 \\u0431\\u0443\\u0434\\u0435\\u0442 \\u043f\\u0440\\u0438\\u044f\\u0442\\u043d\\u043e \\u0432\\u043e\\u0437\\u0432\\u0440\\u0430\\u0449\\u0430\\u0442\\u044c\\u0441\\u044f \\u043f\\u043e\\u0441\\u043b\\u0435 \\u0440\\u0430\\u0431\\u043e\\u0442\\u044b.\"\n        ],\n        \"semantic_type\": \"\",\n        \"description\": \"\"\n      }\n    },\n    {\n      \"column\": \"predicted_tags\",\n      \"properties\": {\n        \"dtype\": \"category\",\n        \"num_unique_values\": 1,\n        \"samples\": [\n          \"['\\u041a\\u0430\\u0440\\u044c\\u0435\\u0440\\u0430: C\\u0442\\u0430\\u0436\\u0438\\u0440\\u043e\\u0432\\u043a\\u0438', '\\u041a\\u0430\\u0440\\u044c\\u0435\\u0440\\u0430: \\u0421\\u043e\\u0441\\u0442\\u0430\\u0432\\u043b\\u0435\\u043d\\u0438\\u0435 \\u0440\\u0435\\u0437\\u044e\\u043c\\u0435']\"\n        ],\n        \"semantic_type\": \"\",\n        \"description\": \"\"\n      }\n    }\n  ]\n}"
            }
          },
          "metadata": {},
          "execution_count": 4
        }
      ]
    },
    {
      "cell_type": "markdown",
      "source": [
        "Загрузка ground_truth файла"
      ],
      "metadata": {
        "id": "plKVKMXZICyY"
      }
    },
    {
      "cell_type": "code",
      "source": [
        "ground_truth = pd.read_csv('/content/test_data_tags.csv')"
      ],
      "metadata": {
        "id": "e05o2zP09XVe"
      },
      "execution_count": 5,
      "outputs": []
    },
    {
      "cell_type": "markdown",
      "source": [
        "Скрипт проверки"
      ],
      "metadata": {
        "id": "qhkIiCpcH3Wk"
      }
    },
    {
      "cell_type": "code",
      "source": [
        "import pandas as pd\n",
        "import argparse\n",
        "import ast\n",
        "import numpy as np\n",
        "\n",
        "def iou_metric(ground_truth, predictions):\n",
        "    iou =  len(set.intersection(set(ground_truth), set(predictions)))\n",
        "    iou = iou/(len(set(ground_truth).union(set(predictions))))\n",
        "    return iou\n",
        "\n",
        "def split_tags(tag_list):\n",
        "    final_tag_list = []\n",
        "    for tag in tag_list:\n",
        "        tags = tag.split(\": \")\n",
        "        if len(tags) == 3:\n",
        "            final_tag_list.append(tags[0])\n",
        "            final_tag_list.append(tags[0] + \": \" + tags[1])\n",
        "            final_tag_list.append(tags[0]+ \": \" + tags[1] + \": \" + tags[2])\n",
        "        elif len(tags) == 2:\n",
        "            final_tag_list.append(tags[0])\n",
        "            final_tag_list.append(tags[0] + \": \" + tags[1])\n",
        "        elif len(tags) == 1:\n",
        "            final_tag_list.append(tags[0])\n",
        "        else:\n",
        "            print(\"NOT IMPLEMENTED!!!!\", tag)\n",
        "    return final_tag_list\n",
        "\n",
        "\n",
        "def find_iou_for_sample_submission(pred_submission, true_submission):\n",
        "    ground_truth_df = true_submission\n",
        "    ground_truth_df[\"tags\"] = ground_truth_df[\"tags\"].apply(lambda l: l.split(', '))\n",
        "    ground_truth_df[\"tags_split\"] = ground_truth_df[\"tags\"].apply(lambda l: split_tags(l))\n",
        "\n",
        "    predictions_df = pred_submission\n",
        "    predictions_df[\"predicted_tags\"] = predictions_df[\"predicted_tags\"].apply(ast.literal_eval)\n",
        "    predictions_df[\"predicted_tags_split\"] = predictions_df[\"predicted_tags\"].apply(lambda l: split_tags(l))\n",
        "    iou=0\n",
        "    counter = 0\n",
        "    for i, row in ground_truth_df.iterrows():\n",
        "        predicted_tags = predictions_df[predictions_df[\"video_id\"]==row[\"video_id\"]][\"predicted_tags_split\"].values[0]\n",
        "        iou_temp=iou_metric(row['tags_split'], predicted_tags)\n",
        "        iou+=iou_temp\n",
        "        counter+=1\n",
        "\n",
        "    return iou/counter\n",
        "\n",
        "\n",
        "if __name__ == '__main__':\n",
        "\n",
        "    try:\n",
        "        pred_submission = sample_submission #pd.read_csv(pred_path, sep = ',')\n",
        "    except Exception:\n",
        "        assert False, 'Ошибка при загрузке решения участника'\n",
        "    try:\n",
        "        true_submission = ground_truth #pd.read_csv(true_path, sep = ',')\n",
        "    except Exception:\n",
        "        assert False, 'Ошибка при загрузке эталонного решения'\n",
        "\n",
        "\n",
        "    final_score = find_iou_for_sample_submission(pred_submission, true_submission)\n",
        "    print(\"FINAL_SCORE\", 'число от 0 до 1') #final_score)\n",
        "\n"
      ],
      "metadata": {
        "colab": {
          "base_uri": "https://localhost:8080/"
        },
        "id": "QeqM1pNj6D4l",
        "outputId": "b58d1598-2edf-40ab-c7d0-a7d004112ae7"
      },
      "execution_count": 6,
      "outputs": [
        {
          "output_type": "stream",
          "name": "stdout",
          "text": [
            "FINAL_SCORE число от 0 до 1\n"
          ]
        }
      ]
    }
  ]
}